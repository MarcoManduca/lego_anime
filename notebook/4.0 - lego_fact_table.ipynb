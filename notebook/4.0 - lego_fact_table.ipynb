{
 "cells": [
  {
   "cell_type": "markdown",
   "metadata": {},
   "source": [
    "## ETL applied on LEGO data"
   ]
  },
  {
   "cell_type": "markdown",
   "metadata": {},
   "source": [
    "importing"
   ]
  },
  {
   "cell_type": "code",
   "execution_count": 1,
   "metadata": {},
   "outputs": [],
   "source": [
    "import pandas as pd\n",
    "import chromadb\n",
    "from chromadb.utils import embedding_functions\n",
    "from chromadb.db.base import UniqueConstraintError"
   ]
  },
  {
   "cell_type": "markdown",
   "metadata": {},
   "source": [
    "read genres file"
   ]
  },
  {
   "cell_type": "code",
   "execution_count": 2,
   "metadata": {},
   "outputs": [],
   "source": [
    "anime_genres = '../data/prod/genres.csv'\n",
    "df_genres= pd.read_csv(anime_genres)\n",
    "df_genres['genre_id'] = df_genres['genre_id'].astype(str)"
   ]
  },
  {
   "cell_type": "markdown",
   "metadata": {},
   "source": [
    "define chromadb client and embedding function feeding with genres info"
   ]
  },
  {
   "cell_type": "code",
   "execution_count": null,
   "metadata": {},
   "outputs": [],
   "source": [
    "chroma_client = chromadb.Client()\n",
    "em = embedding_functions.SentenceTransformerEmbeddingFunction(model_name=\"thenlper/gte-large\")\n",
    "try:\n",
    "    collection = chroma_client.create_collection(name=\"my_collection\", embedding_function=em)\n",
    "except UniqueConstraintError:\n",
    "    collection = chroma_client.get_collection(name='my_collection', embedding_function=em)\n",
    "\n",
    "collection.add(\n",
    "    documents=list(df_genres['genre_name']),\n",
    "    ids=list(df_genres['genre_id'])\n",
    ")"
   ]
  },
  {
   "cell_type": "markdown",
   "metadata": {},
   "source": [
    "load LEGO data"
   ]
  },
  {
   "cell_type": "code",
   "execution_count": null,
   "metadata": {},
   "outputs": [],
   "source": [
    "df_lego = pd.read_csv('../data/stg/lego/lego.csv')"
   ]
  },
  {
   "cell_type": "markdown",
   "metadata": {},
   "source": [
    "check some LEGO info"
   ]
  },
  {
   "cell_type": "code",
   "execution_count": null,
   "metadata": {},
   "outputs": [],
   "source": [
    "df_lego.info()"
   ]
  },
  {
   "cell_type": "markdown",
   "metadata": {},
   "source": [
    "drop duplicated SetID"
   ]
  },
  {
   "cell_type": "code",
   "execution_count": 6,
   "metadata": {},
   "outputs": [],
   "source": [
    "df_lego = df_lego[~df_lego['SetID'].isin(['15-1', '14-1', '11-2'])]"
   ]
  },
  {
   "cell_type": "markdown",
   "metadata": {},
   "source": [
    "remove rows with missing values for MixedPrice (imputation will be avaiable with a future development after understand better the data)"
   ]
  },
  {
   "cell_type": "code",
   "execution_count": 7,
   "metadata": {},
   "outputs": [],
   "source": [
    "df_lego = df_lego[~df_lego['MixedPrice'].isna()]"
   ]
  },
  {
   "cell_type": "markdown",
   "metadata": {},
   "source": [
    "impute MinAge (minimum age) with 18 where null"
   ]
  },
  {
   "cell_type": "code",
   "execution_count": null,
   "metadata": {},
   "outputs": [],
   "source": [
    "df_lego.loc[df_lego['AgeMin'].isna(), 'AgeMin'] = 18"
   ]
  },
  {
   "cell_type": "markdown",
   "metadata": {},
   "source": [
    "group MinAge in the same ways for anime data"
   ]
  },
  {
   "cell_type": "code",
   "execution_count": 8,
   "metadata": {},
   "outputs": [],
   "source": [
    "def define_minimun_age(row:float) -> int:\n",
    "    \"\"\"Define the minimum age for the lego set\n",
    "    Args:\n",
    "        row (float): AgeMin\n",
    "    Returns:\n",
    "        int: minimum age\n",
    "    \"\"\"\n",
    "    age = row['AgeMin']\n",
    "    if age >= 17:\n",
    "        out_age = 18\n",
    "    elif age >= 13:\n",
    "        out_age = 13\n",
    "    elif age >= 10:\n",
    "        out_age = 10\n",
    "    else:\n",
    "        out_age = 0\n",
    "    return out_age\n",
    "\n",
    "df_lego['min_age'] = df_lego.apply(lambda row: define_minimun_age(row), axis = 1)"
   ]
  },
  {
   "cell_type": "markdown",
   "metadata": {},
   "source": [
    "create a new column with the text to embed for LEGO genres"
   ]
  },
  {
   "cell_type": "code",
   "execution_count": 11,
   "metadata": {},
   "outputs": [],
   "source": [
    "df_lego['text_for_embedding'] = df_lego.apply(lambda x: f\"{x['Theme']} {x['ThemeGroup']} {x['Subtheme']} {x['SetName']}\", axis=1)"
   ]
  },
  {
   "cell_type": "markdown",
   "metadata": {},
   "source": [
    "create a function to extract the 2 more similar genres for each LEGO set"
   ]
  },
  {
   "cell_type": "code",
   "execution_count": 12,
   "metadata": {},
   "outputs": [],
   "source": [
    "def retrive_genres(row:str) -> list:\n",
    "    \"\"\"Retrive the genre for the lego set\n",
    "    Args:\n",
    "        row (str): text_for_embedding\n",
    "    Returns:\n",
    "        list: list of genres ids\n",
    "    \"\"\" \n",
    "    results = collection.query(\n",
    "        query_texts = [row['text_for_embedding']],\n",
    "        n_results = 2\n",
    "    )\n",
    "    return results['ids'][0]\n",
    "df_lego['similar_genres'] = df_lego.apply(lambda row: retrive_genres(row), axis = 1)"
   ]
  },
  {
   "cell_type": "markdown",
   "metadata": {},
   "source": [
    "impute missing value for Availability, PackagingType, ThemeGroup and Subtheme with 'uncategorized'"
   ]
  },
  {
   "cell_type": "code",
   "execution_count": 15,
   "metadata": {},
   "outputs": [],
   "source": [
    "df_lego.loc[df_lego['Availability'].isin(['{Not specified}', 'Unknown']), 'Availability'] = 'uncategorized'\n",
    "df_lego.loc[df_lego['PackagingType']=='{Not specified}', 'PackagingType'] = 'uncategorized'\n",
    "df_lego.loc[df_lego['Subtheme'].isna(), 'Subtheme'] = 'uncategorized'\n",
    "df_lego.loc[df_lego['ThemeGroup'].isna(), 'ThemeGroup'] = 'uncategorized'"
   ]
  },
  {
   "cell_type": "markdown",
   "metadata": {},
   "source": [
    "extract the genres list, create a dictionary with the mapping genre_id-lego_ids and save them into a csv file"
   ]
  },
  {
   "cell_type": "code",
   "execution_count": 16,
   "metadata": {},
   "outputs": [],
   "source": [
    "lego_genres_list = []\n",
    "for index, row in df_genres.iterrows():\n",
    "    gen = {}\n",
    "    gen['_id'] = str(index)\n",
    "    #gen['name'] = row['genre_name']\n",
    "    gen['lego_ids'] = []\n",
    "    lego_genres_list.append(gen.copy())\n",
    "for index, row in df_lego.iterrows():\n",
    "    for el in row['similar_genres']:\n",
    "        for gen in lego_genres_list:\n",
    "            if el == gen['_id']:\n",
    "                gen['lego_ids'].append(row['SetID'])"
   ]
  },
  {
   "cell_type": "code",
   "execution_count": 23,
   "metadata": {},
   "outputs": [],
   "source": [
    "genre_for_df = []\n",
    "for genre in lego_genres_list:\n",
    "    gen = {}\n",
    "    gen['genre_id'] = genre['_id']\n",
    "    #gen['name'] = genre['name']\n",
    "    for lego_id in genre['lego_ids']:\n",
    "        gen['lego_ids'] = lego_id\n",
    "        genre_for_df.append(gen.copy())\n",
    "df_lego_genres = pd.DataFrame(genre_for_df)\n",
    "df_lego_genres.to_csv('../data/prod/lego_genres.csv', index=False)"
   ]
  },
  {
   "cell_type": "markdown",
   "metadata": {},
   "source": [
    "drop useless columns"
   ]
  },
  {
   "cell_type": "code",
   "execution_count": 24,
   "metadata": {},
   "outputs": [],
   "source": [
    "df_lego.drop(\n",
    "    columns=['similar_genres', 'text_for_embedding', 'AgeMax', 'AgeMin', 'PricePerPiece', 'StockMarketPerPiece'],\n",
    "    axis = 1,\n",
    "    inplace = True\n",
    ")"
   ]
  },
  {
   "cell_type": "markdown",
   "metadata": {},
   "source": [
    "save LEGO data into a csv file"
   ]
  },
  {
   "cell_type": "code",
   "execution_count": 25,
   "metadata": {},
   "outputs": [],
   "source": [
    "df_lego.to_csv('../data/prod/lego.csv', index=False)"
   ]
  }
 ],
 "metadata": {
  "kernelspec": {
   "display_name": "ml",
   "language": "python",
   "name": "python3"
  },
  "language_info": {
   "codemirror_mode": {
    "name": "ipython",
    "version": 3
   },
   "file_extension": ".py",
   "mimetype": "text/x-python",
   "name": "python",
   "nbconvert_exporter": "python",
   "pygments_lexer": "ipython3",
   "version": "3.11.5"
  }
 },
 "nbformat": 4,
 "nbformat_minor": 2
}
